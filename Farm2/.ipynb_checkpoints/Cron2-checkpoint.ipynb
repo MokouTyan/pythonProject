{
 "cells": [
  {
   "cell_type": "code",
   "execution_count": 22,
   "metadata": {
    "tags": []
   },
   "outputs": [],
   "source": [
    "import selenium\n",
    "import json\n",
    "import openpyxl\n",
    "from selenium import webdriver\n",
    "from selenium.webdriver.chrome.service import Service\n",
    "from selenium import webdriver\n",
    "from selenium.webdriver.common.by import By\n",
    "from selenium.webdriver.support.ui import WebDriverWait\n",
    "from selenium.webdriver.support import expected_conditions as EC"
   ]
  },
  {
   "cell_type": "code",
   "execution_count": 34,
   "metadata": {},
   "outputs": [
    {
     "name": "stderr",
     "output_type": "stream",
     "text": [
      "C:\\Users\\Mokou\\AppData\\Local\\Temp\\ipykernel_19116\\2841098639.py:6: DeprecationWarning: executable_path has been deprecated, please pass in a Service object\n",
      "  driver = webdriver.Chrome(r'.\\chromedriver.exe')\n"
     ]
    }
   ],
   "source": [
    "# 全局变量\n",
    "with open('config.json', 'r', encoding='utf-8') as f:\n",
    "    JsonFile = json.load(f)\n",
    "base_url = JsonFile['base_url']\n",
    "# 打开浏览器并且不关闭\n",
    "driver = webdriver.Chrome(r'.\\chromedriver.exe')"
   ]
  },
  {
   "cell_type": "code",
   "execution_count": 32,
   "metadata": {},
   "outputs": [],
   "source": [
    "# 打开网址并且下载txt文档\n",
    "def open_and_download(url):\n",
    "    \n",
    "    wd = driver.get(url)\n",
    "    try:\n",
    "        botton_decade_year = WebDriverWait(wd, 50, 0.5).until(EC.presence_of_element_located((By.XPATH,\"\"\"//*[@class=\"decade-year\"]\"\"\")))\n",
    "    except AttributeError:\n",
    "        print(\"未找到\")\n",
    "        "
   ]
  },
  {
   "cell_type": "code",
   "execution_count": 35,
   "metadata": {},
   "outputs": [
    {
     "name": "stdout",
     "output_type": "stream",
     "text": [
      "未找到\n"
     ]
    }
   ],
   "source": [
    "if __name__ == '__main__':\n",
    "    open_and_download(base_url)\n",
    "    "
   ]
  },
  {
   "cell_type": "code",
   "execution_count": null,
   "metadata": {},
   "outputs": [],
   "source": []
  }
 ],
 "metadata": {
  "kernelspec": {
   "display_name": "Python 3 (ipykernel)",
   "language": "python",
   "name": "python3"
  },
  "language_info": {
   "codemirror_mode": {
    "name": "ipython",
    "version": 3
   },
   "file_extension": ".py",
   "mimetype": "text/x-python",
   "name": "python",
   "nbconvert_exporter": "python",
   "pygments_lexer": "ipython3",
   "version": "3.10.4"
  }
 },
 "nbformat": 4,
 "nbformat_minor": 4
}
