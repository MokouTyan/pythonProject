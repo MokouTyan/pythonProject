{
 "cells": [
  {
   "cell_type": "code",
   "execution_count": 1,
   "metadata": {
    "tags": []
   },
   "outputs": [],
   "source": [
    "import selenium\n",
    "import json\n",
    "import time\n",
    "from urllib.request import urlopen\n",
    "import re\n",
    "import openpyxl\n",
    "from selenium import webdriver\n",
    "from selenium.webdriver.chrome.service import Service\n",
    "from selenium import webdriver\n",
    "from selenium.webdriver.common.by import By\n",
    "from selenium.webdriver.support.ui import WebDriverWait\n",
    "from selenium.webdriver.support import expected_conditions as EC"
   ]
  },
  {
   "cell_type": "code",
   "execution_count": 8,
   "metadata": {},
   "outputs": [],
   "source": [
    "# 全局变量\n",
    "with open('config.json', 'r', encoding='utf-8') as f:\n",
    "    JsonFile = json.load(f)\n",
    "base_url = JsonFile['base_url']\n",
    "wait_time = JsonFile['wait_time']\n",
    "delay = JsonFile['delay']\n",
    "decade_year_xpaths = JsonFile['decade_year_xpaths']\n",
    "year_value_xpaths = JsonFile['year_value_xpaths']\n",
    "month_value_xpaths = JsonFile['month_value_xpaths']\n",
    "txt_xpaths = JsonFile['txt_xpaths']\n",
    "keyword1 = JsonFile['keyword1']\n",
    "keyword2 = JsonFile['keyword2']\n",
    "keyword3 = JsonFile['keyword3']\n",
    "keyword4 = JsonFile['keyword4']\n",
    "search = JsonFile['search']"
   ]
  },
  {
   "cell_type": "code",
   "execution_count": 3,
   "metadata": {},
   "outputs": [],
   "source": [
    "# 打开网址并且下载txt文档\n",
    "def open_and_download(url):\n",
    "    \n",
    "    wd = driver.get(url)\n",
    "    # botton_decade_year = WebDriverWait(wd, 50, 0.5).until(EC.presence_of_element_located((By.XPATH,\"\"\"//*[@id=\"blockMarsBranding\"]/a/img\"\"\")))\n",
    "    try:\n",
    "        WebDriverWait(wd, wait_time, 0.5).until(\n",
    "            EC.presence_of_element_located((By.XPATH,decade_year_xpaths)))\n",
    "    except:\n",
    "        print(\"开始计时\")\n",
    "        time.sleep(delay)\n",
    "        print(\"结束计时\")\n",
    "    bottons_decade_year = driver.find_elements(By.XPATH, decade_year_xpaths)\n",
    "    for botton in bottons_decade_year:\n",
    "        botton.click()\n",
    "    print(\"已点开十年\")\n",
    "\n",
    "    bottons_year_value = driver.find_elements(By.XPATH, year_value_xpaths)\n",
    "    for botton in bottons_year_value:\n",
    "        botton.click()\n",
    "        time.sleep(0.2)\n",
    "    print(\"已点开每年\")\n",
    "\n",
    "    bottons_month_value = driver.find_elements(By.XPATH, month_value_xpaths)\n",
    "    for botton in bottons_month_value:\n",
    "        try:\n",
    "            botton.click()\n",
    "            time.sleep(5)\n",
    "        except:\n",
    "            time.sleep(5)\n",
    "            botton.click()\n",
    "            time.sleep(5)\n",
    "\n",
    "    print(\"已点开每月\")\n",
    "\n",
    "def get_all_txt_url():\n",
    "    hrefs = []\n",
    "    bottons_txt = driver.find_elements(By.XPATH, txt_xpaths)\n",
    "    for botton in bottons_txt:\n",
    "        # print(botton.get_attribute('href'))\n",
    "        hrefs.append(botton.get_attribute('href'))\n",
    "    print(hrefs)\n",
    "    print(\"已获取每份txt的URL\")\n",
    "    return hrefs"
   ]
  },
  {
   "cell_type": "code",
   "execution_count": null,
   "metadata": {},
   "outputs": [
    {
     "name": "stderr",
     "output_type": "stream",
     "text": [
      "C:\\Users\\Mokou\\AppData\\Local\\Temp\\ipykernel_13180\\3383509022.py:2: DeprecationWarning: executable_path has been deprecated, please pass in a Service object\n",
      "  driver = webdriver.Chrome(r'.\\chromedriver.exe')\n"
     ]
    },
    {
     "name": "stdout",
     "output_type": "stream",
     "text": [
      "开始计时\n",
      "结束计时\n",
      "已点开十年\n",
      "已点开每年\n"
     ]
    }
   ],
   "source": [
    "if __name__ == '__main__':\n",
    "    driver = webdriver.Chrome(r'.\\chromedriver.exe')\n",
    "    open_and_download(base_url)\n",
    "    txt_url_list = get_all_txt_url()\n",
    "    "
   ]
  },
  {
   "cell_type": "code",
   "execution_count": 15,
   "metadata": {
    "pycharm": {
     "name": "#%%\n"
    }
   },
   "outputs": [
    {
     "name": "stdout",
     "output_type": "stream",
     "text": [
      "b\"WA_GR101\\r\\nWashington, DC    Mon   Nov 6, 2017   USDA Market News\\r\\n\\r\\n*CORRECTIONS AT BOTTOM OF REPORT ARE INCLUDED IN CURRENT MARKET YEAR TO DATE*\\r\\n\\r\\nCOUNTRY OF DESTINATION IS REPORTED AS KNOWN AT THE TIME OF EXPORTATION.\\r\\nINFORMATION CONTAINED IN THIS REPORT REFLECTS EXPORTED GRAIN INSPECTED AND \\r\\nWEIGHED THROUGH GIPSA'S AUTHORITY UNDER THE U.S. GRAIN STANDARDS ACT.  \\r\\nNO ADDITIONAL ANALYSIS, COMPILATIONS OR DATA IS AVAILABLE.\\r\\n\\r\\n               GRAINS INSPECTED AND/OR WEIGHED FOR EXPORT\\r\\n                  REPORTED IN WEEK ENDING NOV 02, 2017\\r\\n                            -- METRIC TONS --\\r\\n-------------------------------------------------------------------------\\r\\n                                                   CURRENT     PREVIOUS  \\r\\n             ----------- WEEK ENDING ----------  MARKET YEAR  MARKET YEAR\\r\\n  GRAIN      11/02/2017  10/26/2017  11/03/2016    TO DATE     TO DATE   \\r\\n\\r\\nBARLEY            122         636         612       16,006       25,605  \\r\\nCORN          444,648     547,417     929,281    5,540,404   10,177,385  \\r\\nFLAXSEED          122         220           0        4,111        9,508  \\r\\nMIXED               0           0           0            0            0  \\r\\nOATS                0           0           0        3,893        6,299  \\r\\nRYE                 0           0           0            0            0  \\r\\nSORGHUM        53,476       1,485      82,363      499,562      692,698  \\r\\nSOYBEANS    2,490,600   2,528,098   2,677,810   14,856,207   16,318,565  \\r\\nSUNFLOWER           0           0           0            0            0  \\r\\nWHEAT         284,293     318,696     512,403   11,422,006   12,155,889  \\r\\nTotal       3,273,261   3,396,552   4,202,469   32,342,189   39,385,949  \\r\\n-------------------------------------------------------------------------\\r\\nCROP MARKETING YEARS BEGIN JUNE 1 FOR WHEAT, RYE, OATS, BARLEY AND\\r\\nFLAXSEED;  SEPTEMBER 1 FOR CORN, SORGHUM, SOYBEANS AND SUNFLOWER SEEDS.\\r\\nINCLUDES WATERWAY SHIPMENTS TO CANADA.\\r\\n\\r\\n    SOYBEANS INSPECTED AND/OR WEIGHED FOR EXPORT\\r\\n       BY PORT AREA AND COUNTRY OF DESTINATION\\r\\n        REPORTED IN WEEK ENDING NOV 02, 2017\\r\\n                  -- METRIC TONS --\\r\\n----------------------------------------------------\\r\\nTOLEDO        \\r\\n       BELGIUM       21317       CANADA        29887\\r\\n\\r\\nN. ATLANTIC   \\r\\n       CHINA T         980       INDONESIA     10356\\r\\n       MALAYSIA       1102\\r\\n\\r\\nS. ATLANTIC   \\r\\n       CHINA MAIN    50909       CHINA T       11242\\r\\n       INDONESIA      1714       MALAYSIA       2449\\r\\n       THAILAND       3012       VIETNAM         147\\r\\n\\r\\nMISSISSIPPI R.\\r\\n       CHINA MAIN   910471       COLOMBIA      11760\\r\\n       EGYPT         66399       JAPAN         29869\\r\\n       KOREA REP     57212       MEXICO        65903\\r\\n       NETHERLANDS   84617       SAUDI ARABIA  71498\\r\\n\\r\\nEAST GULF     \\r\\n       CHINA MAIN    51764\\r\\n\\r\\nS. TEXAS      \\r\\n       CHINA MAIN    70309\\r\\n\\r\\nCOLUMBIA R.   \\r\\n       CHINA MAIN   398439       PHILIPPINES   10203\\r\\n\\r\\nPUGET SOUND   \\r\\n       CHINA MAIN   341619\\r\\n\\r\\nCALIFORNIA    \\r\\n       CHINA T          24\\r\\n\\r\\nINTERIOR      \\r\\n       BURMA          1224       CHINA MAIN    28950\\r\\n       CHINA T       31447       COCOS IS        490\\r\\n       INDONESIA     28528       JAPAN          1444\\r\\n       KOREA REP      2937       MALAYSIA       5018\\r\\n       MEXICO        75714       PHILIPPINES     342\\r\\n       THAILAND       5290       VIETNAM        6014\\r\\n\\r\\nTOTAL                                        2490600\\r\\n----------------------------------------------------\\r\\nINCLUDES SHIPMENTS TO CANADA.\\r\\n\\r\\n   WHEAT INSPECTED AND/OR WEIGHED FOR EXPORT BY CLASS, REGION AND PORT AREA\\r\\n                      REPORTED IN WEEK ENDING NOV 02, 2017\\r\\n                                -- METRIC TONS --\\r\\n------------------------------------------------------------------------------\\r\\n                               HARD RED  HARD RED  SOFT RED    SOFT           \\r\\n  REGION       PORT AREA        SPRING    WINTER    WINTER    WHITE     TOTALS\\r\\n\\r\\nST LAWR SWY  MONTREAL               0         0         0         0          0\\r\\n             SEAWAY                 0         0         0         0          0\\r\\n               SUBTOTAL             0         0         0         0          0\\r\\n\\r\\nLAKES        CHICAGO                0         0         0         0          0\\r\\n             DULUTH-SUP             0         0         0         0          0\\r\\n             TOLEDO                 0         0         0         0          0\\r\\n             PORT HURON             0         0         0         0          0\\r\\n             LAKE ONTARIO           0         0         0         0          0\\r\\n             LAKE SUPERIOR          0         0         0         0          0\\r\\n             LAKE ERIE              0         0         0         0          0\\r\\n               SUBTOTAL             0         0         0         0          0\\r\\n\\r\\nATLANTIC     N. ATLANTIC            0         0         0         0          0\\r\\n             S. ATLANTIC            0         0     1,322         0      1,322\\r\\n               SUBTOTAL             0         0     1,322         0      1,322\\r\\n\\r\\nGULF         MISSISSIPPI R.     5,400         0    40,451         0     45,851\\r\\n             EAST GULF              0         0         0         0          0\\r\\n             N. TEXAS               0         0         0         0          0\\r\\n             S. TEXAS               0         0         0         0          0\\r\\n               SUBTOTAL         5,400         0    40,451         0     45,851\\r\\n\\r\\nPACIFIC      COLUMBIA R.      113,339    32,780         0    73,383    219,502\\r\\n             PUGET SOUND            0         0         0       563        563\\r\\n             CALIFORNIA             0       490         0         0        490\\r\\n               SUBTOTAL       113,339    33,270         0    73,946    220,555\\r\\n\\r\\nINTERIOR     INTERIOR               0    15,268         0       599     15,867\\r\\n               SUBTOTAL             0    15,268         0       599     15,867\\r\\n\\r\\n  TOTAL                       118,739    48,538    41,773    74,545    283,595\\r\\n\\r\\nSHIPMENTS TO CANADA*\\r\\n                                  299       399         0         0     30,585\\r\\n------------------------------------------------------------------------------\\r\\n*NOT INCLUDED IN TOTAL INSPECTION FOR EXPORTS\\r\\nWHEAT SHIPPED FOR STORAGE IN CANADA IS REPORTED AT TIME OF SHIPMENT FROM \\r\\nST LAWR SWY PORTS\\r\\nPRIOR TO MAY 1, 1990, ALL HARD AND SOFT WHITE WHEAT VARIETIES WERE CLASSIFIED \\r\\nAS WHITE WHEAT.\\r\\n\\r\\n           GRAINS INSPECTED AND/OR WEIGHED FOR EXPORT BY REGION AND PORT AREA\\r\\n                            REPORTED IN WEEK ENDING NOV 02, 2017\\r\\n                                    -- METRIC TONS --\\r\\n----------------------------------------------------------------------------------------\\r\\n                             CORN   CORN                               FLAX-            \\r\\nREGION/PORT AREA   WHEAT   YELLOW  WHITE  BARLEY  SORGHUM   SOYBEANS   SEED       TOTALS\\r\\n\\r\\nLAKES     \\r\\n TOLEDO                0        0      0       0        0     51,204      0       51,204\\r\\n   SUBTOTAL            0        0      0       0        0     51,204      0       51,204\\r\\n\\r\\nATLANTIC  \\r\\n N. ATLANTIC           0        0      0       0        0     12,438      0       12,438\\r\\n S. ATLANTIC       1,322    4,646      0       0        0     69,473      0       75,441\\r\\n   SUBTOTAL        1,322    4,646      0       0        0     81,911      0       87,879\\r\\n\\r\\nGULF      \\r\\n MISSISSIPPI R.   45,851  346,503  8,000       0        0  1,297,729      0    1,698,083\\r\\n S. TEXAS              0        0      0       0        0     70,309      0       70,309\\r\\n N. TEXAS              0        0      0       0   50,799          0      0       50,799\\r\\n EAST GULF             0        0      0       0        0     51,764      0       51,764\\r\\n   SUBTOTAL       45,851  346,503  8,000       0   50,799  1,419,802      0    1,870,955\\r\\n\\r\\nPACIFIC   \\r\\n CALIFORNIA          490      122      0       0        0         24      0          636\\r\\n COLUMBIA R.     219,502        0      0       0        0    408,642      0      628,144\\r\\n PUGET SOUND         563        0      0     122        0    341,619    122      342,426\\r\\n   SUBTOTAL      220,555      122      0     122        0    750,285    122      971,206\\r\\n\\r\\nINTERIOR  \\r\\n INTERIOR         16,565   85,377      0       0    2,677    187,398      0      292,017\\r\\n   SUBTOTAL       16,565   85,377      0       0    2,677    187,398      0      292,017\\r\\n\\r\\nTOTAL            284,293  436,648  8,000     122   53,476  2,490,600    122    3,273,261\\r\\n----------------------------------------------------------------------------------------\\r\\nINCLUDES SHIPMENTS TO CANADA AND DOES NOT INCLUDE SHIPMENTS OF U.S. GRAIN FROM THE\\r\\nST. LAWRENCE SEAWAY.\\r\\nMIXED CORN IS INCLUDED IN YELLOW CORN.\\r\\n\\r\\n   GRAINS INSPECTED AND/OR WEIGHED FOR EXPORT BY REGION AND COUNTRY OF DESTINATION\\r\\n                          REPORTED IN WEEK ENDING NOV 02, 2017\\r\\n                                    -- METRIC TONS --\\r\\n---------------------------------------------------------------------------------------\\r\\n                           CORN   CORN                                FLAX-            \\r\\nREGION/COUNTRY   WHEAT   YELLOW  WHITE   BARLEY  SORGHUM   SOYBEANS   SEED       TOTALS\\r\\n\\r\\nLAKES     \\r\\n BELGIUM             0        0      0        0        0     21,317      0       21,317\\r\\n   SUBTOTAL          0        0      0        0        0     21,317      0       21,317\\r\\n\\r\\nATLANTIC  \\r\\n CHINA MAIN        930        0      0        0        0     50,909      0       51,839\\r\\n CHINA T             0        0      0        0        0     12,222      0       12,222\\r\\n INDONESIA           0        0      0        0        0     12,070      0       12,070\\r\\n JAMAICA             0    4,646      0        0        0          0      0        4,646\\r\\n KOREA REP         392        0      0        0        0          0      0          392\\r\\n MALAYSIA            0        0      0        0        0      3,551      0        3,551\\r\\n THAILAND            0        0      0        0        0      3,012      0        3,012\\r\\n VIETNAM             0        0      0        0        0        147      0          147\\r\\n   SUBTOTAL      1,322    4,646      0        0        0     81,911      0       87,879\\r\\n\\r\\nGULF      \\r\\n CHINA MAIN          0        0      0        0   50,799  1,032,544      0    1,083,343\\r\\n COLOMBIA            0  129,940  8,000        0        0     11,760      0      149,700\\r\\n EGYPT               0        0      0        0        0     66,399      0       66,399\\r\\n HAITI               0    6,900      0        0        0          0      0        6,900\\r\\n HONDURAS            0   38,528      0        0        0          0      0       38,528\\r\\n JAMAICA             0    6,950      0        0        0          0      0        6,950\\r\\n JAPAN               0   69,501      0        0        0     29,869      0       99,370\\r\\n KOREA REP           0        0      0        0        0     57,212      0       57,212\\r\\n MEXICO         12,851   55,984      0        0        0     65,903      0      134,738\\r\\n NETHERLANDS         0        0      0        0        0     84,617      0       84,617\\r\\n NIGERIA        33,000        0      0        0        0          0      0       33,000\\r\\n PERU                0   35,355      0        0        0          0      0       35,355\\r\\n SAUDI ARABIA        0        0      0        0        0     71,498      0       71,498\\r\\n VENEZUELA           0    3,345      0        0        0          0      0        3,345\\r\\n   SUBTOTAL     45,851  346,503  8,000        0   50,799  1,419,802      0    1,870,955\\r\\n\\r\\nPACIFIC   \\r\\n CHINA MAIN        490        0      0        0        0    740,058    122      740,670\\r\\n CHINA T        29,032        0      0        0        0         24      0       29,056\\r\\n GUATEMALA      49,590        0      0        0        0          0      0       49,590\\r\\n JAPAN          58,697      122      0      122        0          0      0       58,941\\r\\n KOREA REP      33,000        0      0        0        0          0      0       33,000\\r\\n PHILIPPINES    25,249        0      0        0        0     10,203      0       35,452\\r\\n THAILAND          563        0      0        0        0          0      0          563\\r\\n VIETNAM        23,934        0      0        0        0          0      0       23,934\\r\\n   SUBTOTAL    220,555      122      0      122        0    750,285    122      971,206\\r\\n\\r\\nINTERIOR  \\r\\n BURMA               0        0      0        0        0      1,224      0        1,224\\r\\n CHINA MAIN          0        0      0        0    1,120     28,950      0       30,070\\r\\n CHINA T             0    7,886      0        0        0     31,447      0       39,333\\r\\n COCOS IS            0        0      0        0        0        490      0          490\\r\\n HONG KONG           0      245      0        0        0          0      0          245\\r\\n INDONESIA           0        0      0        0        0     28,528      0       28,528\\r\\n JAPAN               0        0      0        0        0      1,444      0        1,444\\r\\n KOREA REP           0        0      0        0        0      2,937      0        2,937\\r\\n MALAYSIA            0      685      0        0        0      5,018      0        5,703\\r\\n MEXICO         15,867   76,561      0        0    1,557     75,714      0      169,699\\r\\n PHILIPPINES         0        0      0        0        0        342      0          342\\r\\n THAILAND            0        0      0        0        0      5,290      0        5,290\\r\\n VIETNAM             0        0      0        0        0      6,014      0        6,014\\r\\n   SUBTOTAL     15,867   85,377      0        0    2,677    187,398      0      291,319\\r\\n\\r\\nTOTAL          283,595  436,648  8,000      122   53,476  2,460,713    122    3,242,676\\r\\n\\r\\nSHIPMENTS TO CANADA*\\r\\n                   698        0      0        0        0     29,887      0       30,585\\r\\n---------------------------------------------------------------------------------------\\r\\n*NOT INCLUDED IN TOTAL INSPECTION FOR EXPORTS\\r\\nGRAIN SHIPPED FOR STORAGE IN CANADA IS REPORTED AT TIME OF SHIPMENT FROM \\r\\nST LAWR SWY PORTS\\r\\n\\r\\nMonday NOVEMBER 6, 2017\\r\\nCORRECTIONS TO PREVIOUS PUBLICATIONS:\\r\\nFOR CERTDATE 08/18/17 ADD 11376 YC  CORN     FROM INTERIOR    TO MEXICO      \\r\\nFOR CERTDATE 09/25/17 ADD 20066 SWH WHEAT    FROM COLUMBIA R. TO PHILIPPINES \\r\\nFOR CERTDATE 10/02/17 ADD   416 YSB SOYBEANS FROM S. ATLANTIC TO CHINA T     \\r\\nFOR CERTDATE 10/17/17 ADD    24 YSB SOYBEANS FROM INTERIOR    TO CHINA T     \\r\\nFOR CERTDATE 10/18/17 ADD   833 YSB SOYBEANS FROM INTERIOR    TO CHINA T     \\r\\nFOR CERTDATE 10/19/17 ADD   343 YSB SOYBEANS FROM INTERIOR    TO CHINA T     \\r\\nFOR CERTDATE 10/20/17 ADD   245 SWH WHEAT    FROM PUGET SOUND TO VIETNAM     \\r\\nFOR CERTDATE 10/20/17 ADD 11077 YC  CORN     FROM INTERIOR    TO MEXICO      \\r\\nFOR CERTDATE 10/23/17 ADD   294 YSB SOYBEANS FROM INTERIOR    TO CHINA T     \\r\\nFOR CERTDATE 10/23/17 ADD  5389 YSB SOYBEANS FROM INTERIOR    TO MEXICO      \\r\\nFOR CERTDATE 10/24/17 ADD  2694 HRS WHEAT    FROM INTERIOR    TO MEXICO      \\r\\nFOR CERTDATE 10/24/17 ADD   269 YSB SOYBEANS FROM INTERIOR    TO CHINA T     \\r\\nFOR CERTDATE 10/24/17 ADD   490 YSB SOYBEANS FROM INTERIOR    TO INDONESIA   \\r\\nFOR CERTDATE 10/24/17 ADD  5588 YSB SOYBEANS FROM INTERIOR    TO MEXICO      \\r\\nFOR CERTDATE 10/25/17 ADD   440 SWH WHEAT    FROM PUGET SOUND TO VIETNAM     \\r\\nFOR CERTDATE 10/25/17 ADD   220 TRB BARLEY   FROM PUGET SOUND TO JAPAN       \\r\\nFOR CERTDATE 10/25/17 ADD  2229 YSB SOYBEANS FROM INTERIOR    TO CHINA T     \\r\\nFOR CERTDATE 10/25/17 ADD   171 YSB SOYBEANS FROM INTERIOR    TO INDONESIA   \\r\\nFOR CERTDATE 10/26/17 ADD   416 TRB BARLEY   FROM PUGET SOUND TO JAPAN       \\r\\nFOR CERTDATE 10/26/17 ADD 18661 YC  CORN     FROM INTERIOR    TO MEXICO      \\r\\nFOR CERTDATE 10/26/17 ADD  3086 YSB SOYBEANS FROM INTERIOR    TO CHINA T     \\r\\nFOR CERTDATE 10/26/17 ADD  1077 YSB SOYBEANS FROM INTERIOR    TO INDONESIA   \\r\\nFOR CERTDATE 10/26/17 ADD    24 YSB SOYBEANS FROM INTERIOR    TO MALAYSIA    \\r\\nFOR CERTDATE 10/26/17 ADD  3493 YSB SOYBEANS FROM INTERIOR    TO MEXICO      \\r\\n\\r\\nSource:  USDA, FGIS\\r\\n         USDA Market News Service, Moses Lake, WA\\r\\n         Robin Cusato-Wood 509-762-6169 MosesLake.LPGMN@ams.usda.gov\\r\\n         www.ams.usda.gov/mnreports/wa_gr101.txt\\r\\n         http://www.ams.usda.gov/market-news/livestock-poultry-grain\\r\\n\\r\\n11:00e   rlc\\r\\n\\r\\n\"\n",
      "WA_GR101 Washington DC Mon Nov 6 2017 USDA Market News *CORRECTIONS AT BOTTOM OF REPORT ARE INCLUDED IN CURRENT MARKET YEAR TO DATE* COUNTRY OF DESTINATION IS REPORTED AS KNOWN AT THE TIME OF EXPORTATION INFORMATION CONTAINED IN THIS REPORT REFLECTS EXPORTED GRAIN INSPECTED AND WEIGHED THROUGH GIPSA'S AUTHORITY UNDER THE US GRAIN STANDARDS ACT NO ADDITIONAL ANALYSIS COMPILATIONS OR DATA IS AVAILABLE GRAINS INSPECTED AND/OR WEIGHED FOR EXPORT REPORTED IN WEEK ENDING NOV 02 2017 -- METRIC TONS -- ------------------------------------------------------------------------- CURRENT PREVIOUS ----------- WEEK ENDING ---------- MARKET YEAR MARKET YEAR GRAIN 11/02/2017 10/26/2017 11/03/2016 TO DATE TO DATE BARLEY 122 636 612 16006 25605 CORN 444648 547417 929281 5540404 10177385 FLAXSEED 122 220 0 4111 9508 MIXED 0 0 0 0 0 OATS 0 0 0 3893 6299 RYE 0 0 0 0 0 SORGHUM 53476 1485 82363 499562 692698 SOYBEANS 2490600 2528098 2677810 14856207 16318565 SUNFLOWER 0 0 0 0 0 WHEAT 284293 318696 512403 11422006 12155889 Total 3273261 3396552 4202469 32342189 39385949 ------------------------------------------------------------------------- CROP MARKETING YEARS BEGIN JUNE 1 FOR WHEAT RYE OATS BARLEY AND FLAXSEED; SEPTEMBER 1 FOR CORN SORGHUM SOYBEANS AND SUNFLOWER SEEDS INCLUDES WATERWAY SHIPMENTS TO CANADA SOYBEANS INSPECTED AND/OR WEIGHED FOR EXPORT BY PORT AREA AND COUNTRY OF DESTINATION REPORTED IN WEEK ENDING NOV 02 2017 -- METRIC TONS -- ---------------------------------------------------- TOLEDO BELGIUM 21317 CANADA 29887 N ATLANTIC CHINA T 980 INDONESIA 10356 MALAYSIA 1102 S ATLANTIC CHINA MAIN 50909 CHINA T 11242 INDONESIA 1714 MALAYSIA 2449 THAILAND 3012 VIETNAM 147 MISSISSIPPI R CHINA MAIN 910471 COLOMBIA 11760 EGYPT 66399 JAPAN 29869 KOREA REP 57212 MEXICO 65903 NETHERLANDS 84617 SAUDI ARABIA 71498 EAST GULF CHINA MAIN 51764 S TEXAS CHINA MAIN 70309 COLUMBIA R CHINA MAIN 398439 PHILIPPINES 10203 PUGET SOUND CHINA MAIN 341619 CALIFORNIA CHINA T 24 INTERIOR BURMA 1224 CHINA MAIN 28950 CHINA T 31447 COCOS IS 490 INDONESIA 28528 JAPAN 1444 KOREA REP 2937 MALAYSIA 5018 MEXICO 75714 PHILIPPINES 342 THAILAND 5290 VIETNAM 6014 TOTAL 2490600 ---------------------------------------------------- INCLUDES SHIPMENTS TO CANADA WHEAT INSPECTED AND/OR WEIGHED FOR EXPORT BY CLASS REGION AND PORT AREA REPORTED IN WEEK ENDING NOV 02 2017 -- METRIC TONS -- ------------------------------------------------------------------------------ HARD RED HARD RED SOFT RED SOFT REGION PORT AREA SPRING WINTER WINTER WHITE TOTALS ST LAWR SWY MONTREAL 0 0 0 0 0 SEAWAY 0 0 0 0 0 SUBTOTAL 0 0 0 0 0 LAKES CHICAGO 0 0 0 0 0 DULUTH-SUP 0 0 0 0 0 TOLEDO 0 0 0 0 0 PORT HURON 0 0 0 0 0 LAKE ONTARIO 0 0 0 0 0 LAKE SUPERIOR 0 0 0 0 0 LAKE ERIE 0 0 0 0 0 SUBTOTAL 0 0 0 0 0 ATLANTIC N ATLANTIC 0 0 0 0 0 S ATLANTIC 0 0 1322 0 1322 SUBTOTAL 0 0 1322 0 1322 GULF MISSISSIPPI R 5400 0 40451 0 45851 EAST GULF 0 0 0 0 0 N TEXAS 0 0 0 0 0 S TEXAS 0 0 0 0 0 SUBTOTAL 5400 0 40451 0 45851 PACIFIC COLUMBIA R 113339 32780 0 73383 219502 PUGET SOUND 0 0 0 563 563 CALIFORNIA 0 490 0 0 490 SUBTOTAL 113339 33270 0 73946 220555 INTERIOR INTERIOR 0 15268 0 599 15867 SUBTOTAL 0 15268 0 599 15867 TOTAL 118739 48538 41773 74545 283595 SHIPMENTS TO CANADA* 299 399 0 0 30585 ------------------------------------------------------------------------------ *NOT INCLUDED IN TOTAL INSPECTION FOR EXPORTS WHEAT SHIPPED FOR STORAGE IN CANADA IS REPORTED AT TIME OF SHIPMENT FROM ST LAWR SWY PORTS PRIOR TO MAY 1 1990 ALL HARD AND SOFT WHITE WHEAT VARIETIES WERE CLASSIFIED AS WHITE WHEAT GRAINS INSPECTED AND/OR WEIGHED FOR EXPORT BY REGION AND PORT AREA REPORTED IN WEEK ENDING NOV 02 2017 -- METRIC TONS -- ---------------------------------------------------------------------------------------- CORN CORN FLAX- REGION/PORT AREA WHEAT YELLOW WHITE BARLEY SORGHUM SOYBEANS SEED TOTALS LAKES TOLEDO 0 0 0 0 0 51204 0 51204 SUBTOTAL 0 0 0 0 0 51204 0 51204 ATLANTIC N ATLANTIC 0 0 0 0 0 12438 0 12438 S ATLANTIC 1322 4646 0 0 0 69473 0 75441 SUBTOTAL 1322 4646 0 0 0 81911 0 87879 GULF MISSISSIPPI R 45851 346503 8000 0 0 1297729 0 1698083 S TEXAS 0 0 0 0 0 70309 0 70309 N TEXAS 0 0 0 0 50799 0 0 50799 EAST GULF 0 0 0 0 0 51764 0 51764 SUBTOTAL 45851 346503 8000 0 50799 1419802 0 1870955 PACIFIC CALIFORNIA 490 122 0 0 0 24 0 636 COLUMBIA R 219502 0 0 0 0 408642 0 628144 PUGET SOUND 563 0 0 122 0 341619 122 342426 SUBTOTAL 220555 122 0 122 0 750285 122 971206 INTERIOR INTERIOR 16565 85377 0 0 2677 187398 0 292017 SUBTOTAL 16565 85377 0 0 2677 187398 0 292017 TOTAL 284293 436648 8000 122 53476 2490600 122 3273261 ---------------------------------------------------------------------------------------- INCLUDES SHIPMENTS TO CANADA AND DOES NOT INCLUDE SHIPMENTS OF US GRAIN FROM THE ST LAWRENCE SEAWAY MIXED CORN IS INCLUDED IN YELLOW CORN GRAINS INSPECTED AND/OR WEIGHED FOR EXPORT BY REGION AND COUNTRY OF DESTINATION REPORTED IN WEEK ENDING NOV 02 2017 -- METRIC TONS -- --------------------------------------------------------------------------------------- CORN CORN FLAX- REGION/COUNTRY WHEAT YELLOW WHITE BARLEY SORGHUM SOYBEANS SEED TOTALS LAKES BELGIUM 0 0 0 0 0 21317 0 21317 SUBTOTAL 0 0 0 0 0 21317 0 21317 ATLANTIC CHINA MAIN 930 0 0 0 0 50909 0 51839 CHINA T 0 0 0 0 0 12222 0 12222 INDONESIA 0 0 0 0 0 12070 0 12070 JAMAICA 0 4646 0 0 0 0 0 4646 KOREA REP 392 0 0 0 0 0 0 392 MALAYSIA 0 0 0 0 0 3551 0 3551 THAILAND 0 0 0 0 0 3012 0 3012 VIETNAM 0 0 0 0 0 147 0 147 SUBTOTAL 1322 4646 0 0 0 81911 0 87879 GULF CHINA MAIN 0 0 0 0 50799 1032544 0 1083343 COLOMBIA 0 129940 8000 0 0 11760 0 149700 EGYPT 0 0 0 0 0 66399 0 66399 HAITI 0 6900 0 0 0 0 0 6900 HONDURAS 0 38528 0 0 0 0 0 38528 JAMAICA 0 6950 0 0 0 0 0 6950 JAPAN 0 69501 0 0 0 29869 0 99370 KOREA REP 0 0 0 0 0 57212 0 57212 MEXICO 12851 55984 0 0 0 65903 0 134738 NETHERLANDS 0 0 0 0 0 84617 0 84617 NIGERIA 33000 0 0 0 0 0 0 33000 PERU 0 35355 0 0 0 0 0 35355 SAUDI ARABIA 0 0 0 0 0 71498 0 71498 VENEZUELA 0 3345 0 0 0 0 0 3345 SUBTOTAL 45851 346503 8000 0 50799 1419802 0 1870955 PACIFIC CHINA MAIN 490 0 0 0 0 740058 122 740670 CHINA T 29032 0 0 0 0 24 0 29056 GUATEMALA 49590 0 0 0 0 0 0 49590 JAPAN 58697 122 0 122 0 0 0 58941 KOREA REP 33000 0 0 0 0 0 0 33000 PHILIPPINES 25249 0 0 0 0 10203 0 35452 THAILAND 563 0 0 0 0 0 0 563 VIETNAM 23934 0 0 0 0 0 0 23934 SUBTOTAL 220555 122 0 122 0 750285 122 971206 INTERIOR BURMA 0 0 0 0 0 1224 0 1224 CHINA MAIN 0 0 0 0 1120 28950 0 30070 CHINA T 0 7886 0 0 0 31447 0 39333 COCOS IS 0 0 0 0 0 490 0 490 HONG KONG 0 245 0 0 0 0 0 245 INDONESIA 0 0 0 0 0 28528 0 28528 JAPAN 0 0 0 0 0 1444 0 1444 KOREA REP 0 0 0 0 0 2937 0 2937 MALAYSIA 0 685 0 0 0 5018 0 5703 MEXICO 15867 76561 0 0 1557 75714 0 169699 PHILIPPINES 0 0 0 0 0 342 0 342 THAILAND 0 0 0 0 0 5290 0 5290 VIETNAM 0 0 0 0 0 6014 0 6014 SUBTOTAL 15867 85377 0 0 2677 187398 0 291319 TOTAL 283595 436648 8000 122 53476 2460713 122 3242676 SHIPMENTS TO CANADA* 698 0 0 0 0 29887 0 30585 --------------------------------------------------------------------------------------- *NOT INCLUDED IN TOTAL INSPECTION FOR EXPORTS GRAIN SHIPPED FOR STORAGE IN CANADA IS REPORTED AT TIME OF SHIPMENT FROM ST LAWR SWY PORTS Monday NOVEMBER 6 2017 CORRECTIONS TO PREVIOUS PUBLICATIONS: FOR CERTDATE 08/18/17 ADD 11376 YC CORN FROM INTERIOR TO MEXICO FOR CERTDATE 09/25/17 ADD 20066 SWH WHEAT FROM COLUMBIA R TO PHILIPPINES FOR CERTDATE 10/02/17 ADD 416 YSB SOYBEANS FROM S ATLANTIC TO CHINA T FOR CERTDATE 10/17/17 ADD 24 YSB SOYBEANS FROM INTERIOR TO CHINA T FOR CERTDATE 10/18/17 ADD 833 YSB SOYBEANS FROM INTERIOR TO CHINA T FOR CERTDATE 10/19/17 ADD 343 YSB SOYBEANS FROM INTERIOR TO CHINA T FOR CERTDATE 10/20/17 ADD 245 SWH WHEAT FROM PUGET SOUND TO VIETNAM FOR CERTDATE 10/20/17 ADD 11077 YC CORN FROM INTERIOR TO MEXICO FOR CERTDATE 10/23/17 ADD 294 YSB SOYBEANS FROM INTERIOR TO CHINA T FOR CERTDATE 10/23/17 ADD 5389 YSB SOYBEANS FROM INTERIOR TO MEXICO FOR CERTDATE 10/24/17 ADD 2694 HRS WHEAT FROM INTERIOR TO MEXICO FOR CERTDATE 10/24/17 ADD 269 YSB SOYBEANS FROM INTERIOR TO CHINA T FOR CERTDATE 10/24/17 ADD 490 YSB SOYBEANS FROM INTERIOR TO INDONESIA FOR CERTDATE 10/24/17 ADD 5588 YSB SOYBEANS FROM INTERIOR TO MEXICO FOR CERTDATE 10/25/17 ADD 440 SWH WHEAT FROM PUGET SOUND TO VIETNAM FOR CERTDATE 10/25/17 ADD 220 TRB BARLEY FROM PUGET SOUND TO JAPAN FOR CERTDATE 10/25/17 ADD 2229 YSB SOYBEANS FROM INTERIOR TO CHINA T FOR CERTDATE 10/25/17 ADD 171 YSB SOYBEANS FROM INTERIOR TO INDONESIA FOR CERTDATE 10/26/17 ADD 416 TRB BARLEY FROM PUGET SOUND TO JAPAN FOR CERTDATE 10/26/17 ADD 18661 YC CORN FROM INTERIOR TO MEXICO FOR CERTDATE 10/26/17 ADD 3086 YSB SOYBEANS FROM INTERIOR TO CHINA T FOR CERTDATE 10/26/17 ADD 1077 YSB SOYBEANS FROM INTERIOR TO INDONESIA FOR CERTDATE 10/26/17 ADD 24 YSB SOYBEANS FROM INTERIOR TO MALAYSIA FOR CERTDATE 10/26/17 ADD 3493 YSB SOYBEANS FROM INTERIOR TO MEXICO Source: USDA FGIS USDA Market News Service Moses Lake WA Robin Cusato-Wood 509-762-6169 MosesLakeLPGMN@amsusdagov wwwamsusdagov/mnreports/wa_gr101txt http://wwwamsusdagov/market-news/livestock-poultry-grain 11:00e rlc \n"
     ]
    }
   ],
   "source": [
    "# 处理好的文件\n",
    "textPage=urlopen('https://mymarketnews.ams.usda.gov/filerepo/sites/default/files/3071/2017-11-06/469621/WA_GR10120171106.TXT')\n",
    "content_bytes = textPage.read()\n",
    "print(content_bytes)\n",
    "content = str(content_bytes, encoding=\"utf8\")\n",
    "# 处理多余的字符，将他们全部转为空格\n",
    "content = content.replace('\\t', ' ').replace('\\r', ' ').replace('\\n', ' ')\n",
    "# 将逗号句号转换为空\n",
    "content = content.replace(',', '').replace('.', '')\n",
    "# 合并多余空格\n",
    "content = re.sub(' +', ' ', content)\n",
    "\n",
    "print(content)"
   ]
  },
  {
   "cell_type": "code",
   "execution_count": 22,
   "outputs": [
    {
     "name": "stdout",
     "output_type": "stream",
     "text": [
      "分割前\n",
      " WA_GR101 Washington DC Mon Nov 6 2017 USDA Market News *CORRECTIONS AT BOTTOM OF REPORT ARE INCLUDED IN CURRENT MARKET YEAR TO DATE* COUNTRY OF DESTINATION IS REPORTED AS KNOWN AT THE TIME OF EXPORTATION INFORMATION CONTAINED IN THIS REPORT REFLECTS EXPORTED GRAIN INSPECTED AND WEIGHED THROUGH GIPSA'S AUTHORITY UNDER THE US GRAIN STANDARDS ACT NO ADDITIONAL ANALYSIS COMPILATIONS OR DATA IS AVAILABLE GRAINS INSPECTED AND/OR WEIGHED FOR EXPORT REPORTED IN WEEK ENDING NOV 02 2017 -- METRIC TONS -- ------------------------------------------------------------------------- CURRENT PREVIOUS ----------- WEEK ENDING ---------- MARKET YEAR MARKET YEAR GRAIN 11/02/2017 10/26/2017 11/03/2016 TO DATE TO DATE BARLEY 122 636 612 16006 25605 CORN 444648 547417 929281 5540404 10177385 FLAXSEED 122 220 0 4111 9508 MIXED 0 0 0 0 0 OATS 0 0 0 3893 6299 RYE 0 0 0 0 0 SORGHUM 53476 1485 82363 499562 692698 SOYBEANS 2490600 2528098 2677810 14856207 16318565 SUNFLOWER 0 0 0 0 0 WHEAT 284293 318696 512403 11422006 12155889 Total 3273261 3396552 4202469 32342189 39385949 ------------------------------------------------------------------------- CROP MARKETING YEARS BEGIN JUNE 1 FOR WHEAT RYE OATS BARLEY AND FLAXSEED; SEPTEMBER 1 FOR CORN SORGHUM SOYBEANS AND SUNFLOWER SEEDS INCLUDES WATERWAY SHIPMENTS TO CANADA SOYBEANS INSPECTED AND/OR WEIGHED FOR EXPORT BY PORT AREA AND COUNTRY OF DESTINATION REPORTED IN WEEK ENDING NOV 02 2017 -- METRIC TONS -- ---------------------------------------------------- TOLEDO BELGIUM 21317 CANADA 29887 N ATLANTIC CHINA T 980 INDONESIA 10356 MALAYSIA 1102 S ATLANTIC CHINA MAIN 50909 CHINA T 11242 INDONESIA 1714 MALAYSIA 2449 THAILAND 3012 VIETNAM 147 MISSISSIPPI R CHINA MAIN 910471 COLOMBIA 11760 EGYPT 66399 JAPAN 29869 KOREA REP 57212 MEXICO 65903 NETHERLANDS 84617 SAUDI ARABIA 71498 EAST GULF CHINA MAIN 51764 S TEXAS CHINA MAIN 70309 COLUMBIA R CHINA MAIN 398439 PHILIPPINES 10203 PUGET SOUND CHINA MAIN 341619 CALIFORNIA CHINA T 24 INTERIOR BURMA 1224 CHINA MAIN 28950 CHINA T 31447 COCOS IS 490 INDONESIA 28528 JAPAN 1444 KOREA REP 2937 MALAYSIA 5018 MEXICO 75714 PHILIPPINES 342 THAILAND 5290 VIETNAM 6014 TOTAL 2490600 ---------------------------------------------------- INCLUDES SHIPMENTS TO CANADA WHEAT INSPECTED AND/OR WEIGHED FOR EXPORT BY CLASS REGION AND PORT AREA REPORTED IN WEEK ENDING NOV 02 2017 -- METRIC TONS -- ------------------------------------------------------------------------------ HARD RED HARD RED SOFT RED SOFT REGION PORT AREA SPRING WINTER WINTER WHITE TOTALS ST LAWR SWY MONTREAL 0 0 0 0 0 SEAWAY 0 0 0 0 0 SUBTOTAL 0 0 0 0 0 LAKES CHICAGO 0 0 0 0 0 DULUTH-SUP 0 0 0 0 0 TOLEDO 0 0 0 0 0 PORT HURON 0 0 0 0 0 LAKE ONTARIO 0 0 0 0 0 LAKE SUPERIOR 0 0 0 0 0 LAKE ERIE 0 0 0 0 0 SUBTOTAL 0 0 0 0 0 ATLANTIC N ATLANTIC 0 0 0 0 0 S ATLANTIC 0 0 1322 0 1322 SUBTOTAL 0 0 1322 0 1322 GULF MISSISSIPPI R 5400 0 40451 0 45851 EAST GULF 0 0 0 0 0 N TEXAS 0 0 0 0 0 S TEXAS 0 0 0 0 0 SUBTOTAL 5400 0 40451 0 45851 PACIFIC COLUMBIA R 113339 32780 0 73383 219502 PUGET SOUND 0 0 0 563 563 CALIFORNIA 0 490 0 0 490 SUBTOTAL 113339 33270 0 73946 220555 INTERIOR INTERIOR 0 15268 0 599 15867 SUBTOTAL 0 15268 0 599 15867 TOTAL 118739 48538 41773 74545 283595 SHIPMENTS TO CANADA* 299 399 0 0 30585 ------------------------------------------------------------------------------ *NOT INCLUDED IN TOTAL INSPECTION FOR EXPORTS WHEAT SHIPPED FOR STORAGE IN CANADA IS REPORTED AT TIME OF SHIPMENT FROM ST LAWR SWY PORTS PRIOR TO MAY 1 1990 ALL HARD AND SOFT WHITE WHEAT VARIETIES WERE CLASSIFIED AS WHITE WHEAT GRAINS INSPECTED AND/OR WEIGHED FOR EXPORT BY REGION AND PORT AREA REPORTED IN WEEK ENDING NOV 02 2017 -- METRIC TONS -- ---------------------------------------------------------------------------------------- CORN CORN FLAX- REGION/PORT AREA WHEAT YELLOW WHITE BARLEY SORGHUM SOYBEANS SEED TOTALS LAKES TOLEDO 0 0 0 0 0 51204 0 51204 SUBTOTAL 0 0 0 0 0 51204 0 51204 ATLANTIC N ATLANTIC 0 0 0 0 0 12438 0 12438 S ATLANTIC 1322 4646 0 0 0 69473 0 75441 SUBTOTAL 1322 4646 0 0 0 81911 0 87879 GULF MISSISSIPPI R 45851 346503 8000 0 0 1297729 0 1698083 S TEXAS 0 0 0 0 0 70309 0 70309 N TEXAS 0 0 0 0 50799 0 0 50799 EAST GULF 0 0 0 0 0 51764 0 51764 SUBTOTAL 45851 346503 8000 0 50799 1419802 0 1870955 PACIFIC CALIFORNIA 490 122 0 0 0 24 0 636 COLUMBIA R 219502 0 0 0 0 408642 0 628144 PUGET SOUND 563 0 0 122 0 341619 122 342426 SUBTOTAL 220555 122 0 122 0 750285 122 971206 INTERIOR INTERIOR 16565 85377 0 0 2677 187398 0 292017 SUBTOTAL 16565 85377 0 0 2677 187398 0 292017 TOTAL 284293 436648 8000 122 53476 2490600 122 3273261 ---------------------------------------------------------------------------------------- INCLUDES SHIPMENTS TO CANADA AND DOES NOT INCLUDE SHIPMENTS OF US GRAIN FROM THE ST LAWRENCE SEAWAY MIXED CORN IS INCLUDED IN YELLOW CORN GRAINS INSPECTED AND/OR WEIGHED FOR EXPORT BY REGION AND COUNTRY OF DESTINATION REPORTED IN WEEK ENDING NOV 02 2017 -- METRIC TONS -- --------------------------------------------------------------------------------------- CORN CORN FLAX- REGION/COUNTRY WHEAT YELLOW WHITE BARLEY SORGHUM SOYBEANS SEED TOTALS LAKES BELGIUM 0 0 0 0 0 21317 0 21317 SUBTOTAL 0 0 0 0 0 21317 0 21317 ATLANTIC CHINA MAIN 930 0 0 0 0 50909 0 51839 CHINA T 0 0 0 0 0 12222 0 12222 INDONESIA 0 0 0 0 0 12070 0 12070 JAMAICA 0 4646 0 0 0 0 0 4646 KOREA REP 392 0 0 0 0 0 0 392 MALAYSIA 0 0 0 0 0 3551 0 3551 THAILAND 0 0 0 0 0 3012 0 3012 VIETNAM 0 0 0 0 0 147 0 147 SUBTOTAL 1322 4646 0 0 0 81911 0 87879 GULF CHINA MAIN 0 0 0 0 50799 1032544 0 1083343 COLOMBIA 0 129940 8000 0 0 11760 0 149700 EGYPT 0 0 0 0 0 66399 0 66399 HAITI 0 6900 0 0 0 0 0 6900 HONDURAS 0 38528 0 0 0 0 0 38528 JAMAICA 0 6950 0 0 0 0 0 6950 JAPAN 0 69501 0 0 0 29869 0 99370 KOREA REP 0 0 0 0 0 57212 0 57212 MEXICO 12851 55984 0 0 0 65903 0 134738 NETHERLANDS 0 0 0 0 0 84617 0 84617 NIGERIA 33000 0 0 0 0 0 0 33000 PERU 0 35355 0 0 0 0 0 35355 SAUDI ARABIA 0 0 0 0 0 71498 0 71498 VENEZUELA 0 3345 0 0 0 0 0 3345 SUBTOTAL 45851 346503 8000 0 50799 1419802 0 1870955 PACIFIC CHINA MAIN 490 0 0 0 0 740058 122 740670 CHINA T 29032 0 0 0 0 24 0 29056 GUATEMALA 49590 0 0 0 0 0 0 49590 JAPAN 58697 122 0 122 0 0 0 58941 KOREA REP 33000 0 0 0 0 0 0 33000 PHILIPPINES 25249 0 0 0 0 10203 0 35452 THAILAND 563 0 0 0 0 0 0 563 VIETNAM 23934 0 0 0 0 0 0 23934 SUBTOTAL 220555 122 0 122 0 750285 122 971206 INTERIOR BURMA 0 0 0 0 0 1224 0 1224 CHINA MAIN 0 0 0 0 1120 28950 0 30070 CHINA T 0 7886 0 0 0 31447 0 39333 COCOS IS 0 0 0 0 0 490 0 490 HONG KONG 0 245 0 0 0 0 0 245 INDONESIA 0 0 0 0 0 28528 0 28528 JAPAN 0 0 0 0 0 1444 0 1444 KOREA REP 0 0 0 0 0 2937 0 2937 MALAYSIA 0 685 0 0 0 5018 0 5703 MEXICO 15867 76561 0 0 1557 75714 0 169699 PHILIPPINES 0 0 0 0 0 342 0 342 THAILAND 0 0 0 0 0 5290 0 5290 VIETNAM 0 0 0 0 0 6014 0 6014 SUBTOTAL 15867 85377 0 0 2677 187398 0 291319 TOTAL 283595 436648 8000 122 53476 2460713 122 3242676 SHIPMENTS TO CANADA* 698 0 0 0 0 29887 0 30585 --------------------------------------------------------------------------------------- *NOT INCLUDED IN TOTAL INSPECTION FOR EXPORTS GRAIN SHIPPED FOR STORAGE IN CANADA IS REPORTED AT TIME OF SHIPMENT FROM ST LAWR SWY PORTS Monday NOVEMBER 6 2017 CORRECTIONS TO PREVIOUS PUBLICATIONS: FOR CERTDATE 08/18/17 ADD 11376 YC CORN FROM INTERIOR TO MEXICO FOR CERTDATE 09/25/17 ADD 20066 SWH WHEAT FROM COLUMBIA R TO PHILIPPINES FOR CERTDATE 10/02/17 ADD 416 YSB SOYBEANS FROM S ATLANTIC TO CHINA T FOR CERTDATE 10/17/17 ADD 24 YSB SOYBEANS FROM INTERIOR TO CHINA T FOR CERTDATE 10/18/17 ADD 833 YSB SOYBEANS FROM INTERIOR TO CHINA T FOR CERTDATE 10/19/17 ADD 343 YSB SOYBEANS FROM INTERIOR TO CHINA T FOR CERTDATE 10/20/17 ADD 245 SWH WHEAT FROM PUGET SOUND TO VIETNAM FOR CERTDATE 10/20/17 ADD 11077 YC CORN FROM INTERIOR TO MEXICO FOR CERTDATE 10/23/17 ADD 294 YSB SOYBEANS FROM INTERIOR TO CHINA T FOR CERTDATE 10/23/17 ADD 5389 YSB SOYBEANS FROM INTERIOR TO MEXICO FOR CERTDATE 10/24/17 ADD 2694 HRS WHEAT FROM INTERIOR TO MEXICO FOR CERTDATE 10/24/17 ADD 269 YSB SOYBEANS FROM INTERIOR TO CHINA T FOR CERTDATE 10/24/17 ADD 490 YSB SOYBEANS FROM INTERIOR TO INDONESIA FOR CERTDATE 10/24/17 ADD 5588 YSB SOYBEANS FROM INTERIOR TO MEXICO FOR CERTDATE 10/25/17 ADD 440 SWH WHEAT FROM PUGET SOUND TO VIETNAM FOR CERTDATE 10/25/17 ADD 220 TRB BARLEY FROM PUGET SOUND TO JAPAN FOR CERTDATE 10/25/17 ADD 2229 YSB SOYBEANS FROM INTERIOR TO CHINA T FOR CERTDATE 10/25/17 ADD 171 YSB SOYBEANS FROM INTERIOR TO INDONESIA FOR CERTDATE 10/26/17 ADD 416 TRB BARLEY FROM PUGET SOUND TO JAPAN FOR CERTDATE 10/26/17 ADD 18661 YC CORN FROM INTERIOR TO MEXICO FOR CERTDATE 10/26/17 ADD 3086 YSB SOYBEANS FROM INTERIOR TO CHINA T FOR CERTDATE 10/26/17 ADD 1077 YSB SOYBEANS FROM INTERIOR TO INDONESIA FOR CERTDATE 10/26/17 ADD 24 YSB SOYBEANS FROM INTERIOR TO MALAYSIA FOR CERTDATE 10/26/17 ADD 3493 YSB SOYBEANS FROM INTERIOR TO MEXICO Source: USDA FGIS USDA Market News Service Moses Lake WA Robin Cusato-Wood 509-762-6169 MosesLakeLPGMN@amsusdagov wwwamsusdagov/mnreports/wa_gr101txt http://wwwamsusdagov/market-news/livestock-poultry-grain 11:00e rlc \n",
      "第一次分割\n",
      "  REPORTED IN WEEK ENDING NOV 02 2017 -- METRIC TONS -- --------------------------------------------------------------------------------------- CORN CORN FLAX- REGION/COUNTRY WHEAT YELLOW WHITE BARLEY SORGHUM SOYBEANS SEED TOTALS LAKES BELGIUM 0 0 0 0 0 21317 0 21317 SUBTOTAL 0 0 0 0 0 21317 0 21317 ATLANTIC CHINA MAIN 930 0 0 0 0 50909 0 51839 CHINA T 0 0 0 0 0 12222 0 12222 INDONESIA 0 0 0 0 0 12070 0 12070 JAMAICA 0 4646 0 0 0 0 0 4646 KOREA REP 392 0 0 0 0 0 0 392 MALAYSIA 0 0 0 0 0 3551 0 3551 THAILAND 0 0 0 0 0 3012 0 3012 VIETNAM 0 0 0 0 0 147 0 147 SUBTOTAL 1322 4646 0 0 0 81911 0 87879 GULF CHINA MAIN 0 0 0 0 50799 1032544 0 1083343 COLOMBIA 0 129940 8000 0 0 11760 0 149700 EGYPT 0 0 0 0 0 66399 0 66399 HAITI 0 6900 0 0 0 0 0 6900 HONDURAS 0 38528 0 0 0 0 0 38528 JAMAICA 0 6950 0 0 0 0 0 6950 JAPAN 0 69501 0 0 0 29869 0 99370 KOREA REP 0 0 0 0 0 57212 0 57212 MEXICO 12851 55984 0 0 0 65903 0 134738 NETHERLANDS 0 0 0 0 0 84617 0 84617 NIGERIA 33000 0 0 0 0 0 0 33000 PERU 0 35355 0 0 0 0 0 35355 SAUDI ARABIA 0 0 0 0 0 71498 0 71498 VENEZUELA 0 3345 0 0 0 0 0 3345 SUBTOTAL 45851 346503 8000 0 50799 1419802 0 1870955 PACIFIC CHINA MAIN 490 0 0 0 0 740058 122 740670 CHINA T 29032 0 0 0 0 24 0 29056 GUATEMALA 49590 0 0 0 0 0 0 49590 JAPAN 58697 122 0 122 0 0 0 58941 KOREA REP 33000 0 0 0 0 0 0 33000 PHILIPPINES 25249 0 0 0 0 10203 0 35452 THAILAND 563 0 0 0 0 0 0 563 VIETNAM 23934 0 0 0 0 0 0 23934 SUBTOTAL 220555 122 0 122 0 750285 122 971206 INTERIOR BURMA 0 0 0 0 0 1224 0 1224 CHINA MAIN 0 0 0 0 1120 28950 0 30070 CHINA T 0 7886 0 0 0 31447 0 39333 COCOS IS 0 0 0 0 0 490 0 490 HONG KONG 0 245 0 0 0 0 0 245 INDONESIA 0 0 0 0 0 28528 0 28528 JAPAN 0 0 0 0 0 1444 0 1444 KOREA REP 0 0 0 0 0 2937 0 2937 MALAYSIA 0 685 0 0 0 5018 0 5703 MEXICO 15867 76561 0 0 1557 75714 0 169699 PHILIPPINES 0 0 0 0 0 342 0 342 THAILAND 0 0 0 0 0 5290 0 5290 VIETNAM 0 0 0 0 0 6014 0 6014 SUBTOTAL 15867 85377 0 0 2677 187398 0 291319 TOTAL 283595 436648 8000 122 53476 2460713 122 3242676 SHIPMENTS TO CANADA* 698 0 0 0 0 29887 0 30585 --------------------------------------------------------------------------------------- *NOT INCLUDED IN TOTAL INSPECTION FOR EXPORTS GRAIN SHIPPED FOR STORAGE IN CANADA IS REPORTED AT TIME OF SHIPMENT FROM ST LAWR SWY PORTS Monday NOVEMBER 6 2017 CORRECTIONS TO PREVIOUS PUBLICATIONS: FOR CERTDATE 08/18/17 ADD 11376 YC CORN FROM INTERIOR TO MEXICO FOR CERTDATE 09/25/17 ADD 20066 SWH WHEAT FROM COLUMBIA R TO PHILIPPINES FOR CERTDATE 10/02/17 ADD 416 YSB SOYBEANS FROM S ATLANTIC TO CHINA T FOR CERTDATE 10/17/17 ADD 24 YSB SOYBEANS FROM INTERIOR TO CHINA T FOR CERTDATE 10/18/17 ADD 833 YSB SOYBEANS FROM INTERIOR TO CHINA T FOR CERTDATE 10/19/17 ADD 343 YSB SOYBEANS FROM INTERIOR TO CHINA T FOR CERTDATE 10/20/17 ADD 245 SWH WHEAT FROM PUGET SOUND TO VIETNAM FOR CERTDATE 10/20/17 ADD 11077 YC CORN FROM INTERIOR TO MEXICO FOR CERTDATE 10/23/17 ADD 294 YSB SOYBEANS FROM INTERIOR TO CHINA T FOR CERTDATE 10/23/17 ADD 5389 YSB SOYBEANS FROM INTERIOR TO MEXICO FOR CERTDATE 10/24/17 ADD 2694 HRS WHEAT FROM INTERIOR TO MEXICO FOR CERTDATE 10/24/17 ADD 269 YSB SOYBEANS FROM INTERIOR TO CHINA T FOR CERTDATE 10/24/17 ADD 490 YSB SOYBEANS FROM INTERIOR TO INDONESIA FOR CERTDATE 10/24/17 ADD 5588 YSB SOYBEANS FROM INTERIOR TO MEXICO FOR CERTDATE 10/25/17 ADD 440 SWH WHEAT FROM PUGET SOUND TO VIETNAM FOR CERTDATE 10/25/17 ADD 220 TRB BARLEY FROM PUGET SOUND TO JAPAN FOR CERTDATE 10/25/17 ADD 2229 YSB SOYBEANS FROM INTERIOR TO CHINA T FOR CERTDATE 10/25/17 ADD 171 YSB SOYBEANS FROM INTERIOR TO INDONESIA FOR CERTDATE 10/26/17 ADD 416 TRB BARLEY FROM PUGET SOUND TO JAPAN FOR CERTDATE 10/26/17 ADD 18661 YC CORN FROM INTERIOR TO MEXICO FOR CERTDATE 10/26/17 ADD 3086 YSB SOYBEANS FROM INTERIOR TO CHINA T FOR CERTDATE 10/26/17 ADD 1077 YSB SOYBEANS FROM INTERIOR TO INDONESIA FOR CERTDATE 10/26/17 ADD 24 YSB SOYBEANS FROM INTERIOR TO MALAYSIA FOR CERTDATE 10/26/17 ADD 3493 YSB SOYBEANS FROM INTERIOR TO MEXICO Source: USDA FGIS USDA Market News Service Moses Lake WA Robin Cusato-Wood 509-762-6169 MosesLakeLPGMN@amsusdagov wwwamsusdagov/mnreports/wa_gr101txt http://wwwamsusdagov/market-news/livestock-poultry-grain 11:00e rlc \n",
      "第二次分割\n",
      "  REPORTED IN WEEK ENDING NOV 02 2017 -- METRIC TONS -- --------------------------------------------------------------------------------------- CORN CORN FLAX- REGION/COUNTRY WHEAT YELLOW WHITE BARLEY SORGHUM SOYBEANS SEED TOTALS LAKES BELGIUM 0 0 0 0 0 21317 0 21317 SUBTOTAL 0 0 0 0 0 21317 0 21317 ATLANTIC CHINA MAIN 930 0 0 0 0 50909 0 51839 CHINA T 0 0 0 0 0 12222 0 12222 INDONESIA 0 0 0 0 0 12070 0 12070 JAMAICA 0 4646 0 0 0 0 0 4646 KOREA REP 392 0 0 0 0 0 0 392 MALAYSIA 0 0 0 0 0 3551 0 3551 THAILAND 0 0 0 0 0 3012 0 3012 VIETNAM 0 0 0 0 0 147 0 147 SUBTOTAL 1322 4646 0 0 0 81911 0 87879 GULF CHINA MAIN 0 0 0 0 50799 1032544 0 1083343 COLOMBIA 0 129940 8000 0 0 11760 0 149700 EGYPT 0 0 0 0 0 66399 0 66399 HAITI 0 6900 0 0 0 0 0 6900 HONDURAS 0 38528 0 0 0 0 0 38528 JAMAICA 0 6950 0 0 0 0 0 6950 JAPAN 0 69501 0 0 0 29869 0 99370 KOREA REP 0 0 0 0 0 57212 0 57212 MEXICO 12851 55984 0 0 0 65903 0 134738 NETHERLANDS 0 0 0 0 0 84617 0 84617 NIGERIA 33000 0 0 0 0 0 0 33000 PERU 0 35355 0 0 0 0 0 35355 SAUDI ARABIA 0 0 0 0 0 71498 0 71498 VENEZUELA 0 3345 0 0 0 0 0 3345 SUBTOTAL 45851 346503 8000 0 50799 1419802 0 1870955 PACIFIC CHINA MAIN 490 0 0 0 0 740058 122 740670 CHINA T 29032 0 0 0 0 24 0 29056 GUATEMALA 49590 0 0 0 0 0 0 49590 JAPAN 58697 122 0 122 0 0 0 58941 KOREA REP 33000 0 0 0 0 0 0 33000 PHILIPPINES 25249 0 0 0 0 10203 0 35452 THAILAND 563 0 0 0 0 0 0 563 VIETNAM 23934 0 0 0 0 0 0 23934 SUBTOTAL 220555 122 0 122 0 750285 122 971206 INTERIOR BURMA 0 0 0 0 0 1224 0 1224 CHINA MAIN 0 0 0 0 1120 28950 0 30070 CHINA T 0 7886 0 0 0 31447 0 39333 COCOS IS 0 0 0 0 0 490 0 490 HONG KONG 0 245 0 0 0 0 0 245 INDONESIA 0 0 0 0 0 28528 0 28528 JAPAN 0 0 0 0 0 1444 0 1444 KOREA REP 0 0 0 0 0 2937 0 2937 MALAYSIA 0 685 0 0 0 5018 0 5703 MEXICO 15867 76561 0 0 1557 75714 0 169699 PHILIPPINES 0 0 0 0 0 342 0 342 THAILAND 0 0 0 0 0 5290 0 5290 VIETNAM 0 0 0 0 0 6014 0 6014 SUBTOTAL 15867 85377 0 0 2677 187398 0 291319 TOTAL 283595 436648 8000 122 53476 2460713 122 3242676 SHIPMENTS TO CANADA* 698 0 0 0 0 29887 0 30585 --------------------------------------------------------------------------------------- *NOT \n"
     ]
    }
   ],
   "source": [
    "temp_content = content\n",
    "print(\"分割前\\n\", temp_content)\n",
    "if keyword1 != \"\":\n",
    "    content_spilt = re.split(keyword1, temp_content)\n",
    "    temp_content = content_spilt[1]\n",
    "print(\"第一次分割\\n\", temp_content)\n",
    "if keyword2 != \"\":\n",
    "    content_spilt = re.split(keyword2, temp_content)\n",
    "    temp_content = content_spilt[0]\n",
    "print(\"第二次分割\\n\", temp_content)"
   ],
   "metadata": {
    "collapsed": false,
    "pycharm": {
     "name": "#%%\n"
    }
   }
  },
  {
   "cell_type": "code",
   "execution_count": 17,
   "outputs": [
    {
     "name": "stdout",
     "output_type": "stream",
     "text": [
      " REPORTED IN WEEK ENDING NOV 02 2017 -- METRIC TONS -- --------------------------------------------------------------------------------------- CORN CORN FLAX- REGION/COUNTRY WHEAT YELLOW WHITE BARLEY SORGHUM SOYBEANS SEED TOTALS LAKES BELGIUM 0 0 0 0 0 21317 0 21317 SUBTOTAL 0 0 0 0 0 21317 0 21317 ATLANTIC CHINA 930 0 0 0 0 50909 0 51839 TAIWAN 0 0 0 0 0 12222 0 12222 INDONESIA 0 0 0 0 0 12070 0 12070 JAMAICA 0 4646 0 0 0 0 0 4646 KOREA REP 392 0 0 0 0 0 0 392 MALAYSIA 0 0 0 0 0 3551 0 3551 THAILAND 0 0 0 0 0 3012 0 3012 VIETNAM 0 0 0 0 0 147 0 147 SUBTOTAL 1322 4646 0 0 0 81911 0 87879 GULF CHINA 0 0 0 0 50799 1032544 0 1083343 COLOMBIA 0 129940 8000 0 0 11760 0 149700 EGYPT 0 0 0 0 0 66399 0 66399 HAITI 0 6900 0 0 0 0 0 6900 HONDURAS 0 38528 0 0 0 0 0 38528 JAMAICA 0 6950 0 0 0 0 0 6950 JAPAN 0 69501 0 0 0 29869 0 99370 KOREA REP 0 0 0 0 0 57212 0 57212 MEXICO 12851 55984 0 0 0 65903 0 134738 NETHERLANDS 0 0 0 0 0 84617 0 84617 NIGERIA 33000 0 0 0 0 0 0 33000 PERU 0 35355 0 0 0 0 0 35355 SAUDI ARABIA 0 0 0 0 0 71498 0 71498 VENEZUELA 0 3345 0 0 0 0 0 3345 SUBTOTAL 45851 346503 8000 0 50799 1419802 0 1870955 PACIFIC CHINA 490 0 0 0 0 740058 122 740670 TAIWAN 29032 0 0 0 0 24 0 29056 GUATEMALA 49590 0 0 0 0 0 0 49590 JAPAN 58697 122 0 122 0 0 0 58941 KOREA REP 33000 0 0 0 0 0 0 33000 PHILIPPINES 25249 0 0 0 0 10203 0 35452 THAILAND 563 0 0 0 0 0 0 563 VIETNAM 23934 0 0 0 0 0 0 23934 SUBTOTAL 220555 122 0 122 0 750285 122 971206 INTERIOR BURMA 0 0 0 0 0 1224 0 1224 CHINA 0 0 0 0 1120 28950 0 30070 TAIWAN 0 7886 0 0 0 31447 0 39333 COCOS IS 0 0 0 0 0 490 0 490 HONG KONG 0 245 0 0 0 0 0 245 INDONESIA 0 0 0 0 0 28528 0 28528 JAPAN 0 0 0 0 0 1444 0 1444 KOREA REP 0 0 0 0 0 2937 0 2937 MALAYSIA 0 685 0 0 0 5018 0 5703 MEXICO 15867 76561 0 0 1557 75714 0 169699 PHILIPPINES 0 0 0 0 0 342 0 342 THAILAND 0 0 0 0 0 5290 0 5290 VIETNAM 0 0 0 0 0 6014 0 6014 SUBTOTAL 15867 85377 0 0 2677 187398 0 291319 TOTAL 283595 436648 8000 122 53476 2460713 122 3242676 SHIPMENTS TO CANADA* 698 0 0 0 0 29887 0 30585 --------------------------------------------------------------------------------------- *NOT \n"
     ]
    }
   ],
   "source": [
    "temp_content = temp_content.replace('CHINA T', 'TAIWAN')\n",
    "temp_content = temp_content.replace('CHINA MAIN', 'CHINA')\n",
    "print(temp_content)"
   ],
   "metadata": {
    "collapsed": false,
    "pycharm": {
     "name": "#%%\n"
    }
   }
  },
  {
   "cell_type": "code",
   "execution_count": 18,
   "outputs": [
    {
     "name": "stdout",
     "output_type": "stream",
     "text": [
      "分割前\n",
      "  REPORTED IN WEEK ENDING NOV 02 2017 -- METRIC TONS -- --------------------------------------------------------------------------------------- CORN CORN FLAX- REGION/COUNTRY WHEAT YELLOW WHITE BARLEY SORGHUM SOYBEANS SEED TOTALS LAKES BELGIUM 0 0 0 0 0 21317 0 21317 SUBTOTAL 0 0 0 0 0 21317 0 21317 ATLANTIC CHINA 930 0 0 0 0 50909 0 51839 TAIWAN 0 0 0 0 0 12222 0 12222 INDONESIA 0 0 0 0 0 12070 0 12070 JAMAICA 0 4646 0 0 0 0 0 4646 KOREA REP 392 0 0 0 0 0 0 392 MALAYSIA 0 0 0 0 0 3551 0 3551 THAILAND 0 0 0 0 0 3012 0 3012 VIETNAM 0 0 0 0 0 147 0 147 SUBTOTAL 1322 4646 0 0 0 81911 0 87879 GULF CHINA 0 0 0 0 50799 1032544 0 1083343 COLOMBIA 0 129940 8000 0 0 11760 0 149700 EGYPT 0 0 0 0 0 66399 0 66399 HAITI 0 6900 0 0 0 0 0 6900 HONDURAS 0 38528 0 0 0 0 0 38528 JAMAICA 0 6950 0 0 0 0 0 6950 JAPAN 0 69501 0 0 0 29869 0 99370 KOREA REP 0 0 0 0 0 57212 0 57212 MEXICO 12851 55984 0 0 0 65903 0 134738 NETHERLANDS 0 0 0 0 0 84617 0 84617 NIGERIA 33000 0 0 0 0 0 0 33000 PERU 0 35355 0 0 0 0 0 35355 SAUDI ARABIA 0 0 0 0 0 71498 0 71498 VENEZUELA 0 3345 0 0 0 0 0 3345 SUBTOTAL 45851 346503 8000 0 50799 1419802 0 1870955 PACIFIC CHINA 490 0 0 0 0 740058 122 740670 TAIWAN 29032 0 0 0 0 24 0 29056 GUATEMALA 49590 0 0 0 0 0 0 49590 JAPAN 58697 122 0 122 0 0 0 58941 KOREA REP 33000 0 0 0 0 0 0 33000 PHILIPPINES 25249 0 0 0 0 10203 0 35452 THAILAND 563 0 0 0 0 0 0 563 VIETNAM 23934 0 0 0 0 0 0 23934 SUBTOTAL 220555 122 0 122 0 750285 122 971206 INTERIOR BURMA 0 0 0 0 0 1224 0 1224 CHINA 0 0 0 0 1120 28950 0 30070 TAIWAN 0 7886 0 0 0 31447 0 39333 COCOS IS 0 0 0 0 0 490 0 490 HONG KONG 0 245 0 0 0 0 0 245 INDONESIA 0 0 0 0 0 28528 0 28528 JAPAN 0 0 0 0 0 1444 0 1444 KOREA REP 0 0 0 0 0 2937 0 2937 MALAYSIA 0 685 0 0 0 5018 0 5703 MEXICO 15867 76561 0 0 1557 75714 0 169699 PHILIPPINES 0 0 0 0 0 342 0 342 THAILAND 0 0 0 0 0 5290 0 5290 VIETNAM 0 0 0 0 0 6014 0 6014 SUBTOTAL 15867 85377 0 0 2677 187398 0 291319 TOTAL 283595 436648 8000 122 53476 2460713 122 3242676 SHIPMENTS TO CANADA* 698 0 0 0 0 29887 0 30585 --------------------------------------------------------------------------------------- *NOT \n",
      "第一次分割\n",
      "  WHEAT YELLOW WHITE BARLEY SORGHUM SOYBEANS SEED TOTALS LAKES BELGIUM 0 0 0 0 0 21317 0 21317 SUBTOTAL 0 0 0 0 0 21317 0 21317 ATLANTIC CHINA 930 0 0 0 0 50909 0 51839 TAIWAN 0 0 0 0 0 12222 0 12222 INDONESIA 0 0 0 0 0 12070 0 12070 JAMAICA 0 4646 0 0 0 0 0 4646 KOREA REP 392 0 0 0 0 0 0 392 MALAYSIA 0 0 0 0 0 3551 0 3551 THAILAND 0 0 0 0 0 3012 0 3012 VIETNAM 0 0 0 0 0 147 0 147 SUBTOTAL 1322 4646 0 0 0 81911 0 87879 GULF CHINA 0 0 0 0 50799 1032544 0 1083343 COLOMBIA 0 129940 8000 0 0 11760 0 149700 EGYPT 0 0 0 0 0 66399 0 66399 HAITI 0 6900 0 0 0 0 0 6900 HONDURAS 0 38528 0 0 0 0 0 38528 JAMAICA 0 6950 0 0 0 0 0 6950 JAPAN 0 69501 0 0 0 29869 0 99370 KOREA REP 0 0 0 0 0 57212 0 57212 MEXICO 12851 55984 0 0 0 65903 0 134738 NETHERLANDS 0 0 0 0 0 84617 0 84617 NIGERIA 33000 0 0 0 0 0 0 33000 PERU 0 35355 0 0 0 0 0 35355 SAUDI ARABIA 0 0 0 0 0 71498 0 71498 VENEZUELA 0 3345 0 0 0 0 0 3345 SUBTOTAL 45851 346503 8000 0 50799 1419802 0 1870955 PACIFIC CHINA 490 0 0 0 0 740058 122 740670 TAIWAN 29032 0 0 0 0 24 0 29056 GUATEMALA 49590 0 0 0 0 0 0 49590 JAPAN 58697 122 0 122 0 0 0 58941 KOREA REP 33000 0 0 0 0 0 0 33000 PHILIPPINES 25249 0 0 0 0 10203 0 35452 THAILAND 563 0 0 0 0 0 0 563 VIETNAM 23934 0 0 0 0 0 0 23934 SUBTOTAL 220555 122 0 122 0 750285 122 971206 INTERIOR BURMA 0 0 0 0 0 1224 0 1224 CHINA 0 0 0 0 1120 28950 0 30070 TAIWAN 0 7886 0 0 0 31447 0 39333 COCOS IS 0 0 0 0 0 490 0 490 HONG KONG 0 245 0 0 0 0 0 245 INDONESIA 0 0 0 0 0 28528 0 28528 JAPAN 0 0 0 0 0 1444 0 1444 KOREA REP 0 0 0 0 0 2937 0 2937 MALAYSIA 0 685 0 0 0 5018 0 5703 MEXICO 15867 76561 0 0 1557 75714 0 169699 PHILIPPINES 0 0 0 0 0 342 0 342 THAILAND 0 0 0 0 0 5290 0 5290 VIETNAM 0 0 0 0 0 6014 0 6014 SUBTOTAL 15867 85377 0 0 2677 187398 0 291319 TOTAL 283595 436648 8000 122 53476 2460713 122 3242676 SHIPMENTS TO CANADA* 698 0 0 0 0 29887 0 30585 --------------------------------------------------------------------------------------- *NOT \n",
      "第二次分割\n",
      "  WHEAT YELLOW WHITE BARLEY SORGHUM SOYBEANS SEED \n"
     ]
    }
   ],
   "source": [
    "temp_keyword = temp_content\n",
    "print(\"分割前\\n\", temp_keyword)\n",
    "if keyword3 != \"\":\n",
    "    content_spilt = re.split(keyword3, temp_keyword)\n",
    "    temp_keyword = content_spilt[1]\n",
    "print(\"第一次分割\\n\", temp_keyword)\n",
    "if keyword4 != \"\":\n",
    "    content_spilt = re.split(keyword4, temp_keyword)\n",
    "    temp_keyword = content_spilt[0]\n",
    "print(\"第二次分割\\n\", temp_keyword)\n"
   ],
   "metadata": {
    "collapsed": false,
    "pycharm": {
     "name": "#%%\n"
    }
   }
  },
  {
   "cell_type": "code",
   "execution_count": 19,
   "outputs": [
    {
     "name": "stdout",
     "output_type": "stream",
     "text": [
      "['WHEAT', 'YELLOW', 'WHITE', 'BARLEY', 'SORGHUM', 'SOYBEANS', 'SEED']\n",
      "2\n"
     ]
    }
   ],
   "source": [
    "# 返回要查找数据的列数\n",
    "list_keyword = temp_keyword.split()\n",
    "number_location = 0\n",
    "print(list_keyword)\n",
    "number_location=list_keyword.index(search)\n",
    "if search == \"TOTALS\":\n",
    "    number_location = len(list_keyword)\n",
    "print(number_location)"
   ],
   "metadata": {
    "collapsed": false,
    "pycharm": {
     "name": "#%%\n"
    }
   }
  },
  {
   "cell_type": "code",
   "execution_count": 23,
   "outputs": [
    {
     "name": "stdout",
     "output_type": "stream",
     "text": [
      " -- --------------------------------------------------------------------------------------- CORN CORN FLAX- REGION/COUNTRY WHEAT YELLOW WHITE BARLEY SORGHUM SOYBEANS SEED TOTALS LAKES BELGIUM 0 0 0 0 0 21317 0 21317 SUBTOTAL 0 0 0 0 0 21317 0 21317 ATLANTIC CHINA MAIN 930 0 0 0 0 50909 0 51839 CHINA T 0 0 0 0 0 12222 0 12222 INDONESIA 0 0 0 0 0 12070 0 12070 JAMAICA 0 4646 0 0 0 0 0 4646 KOREA REP 392 0 0 0 0 0 0 392 MALAYSIA 0 0 0 0 0 3551 0 3551 THAILAND 0 0 0 0 0 3012 0 3012 VIETNAM 0 0 0 0 0 147 0 147 SUBTOTAL 1322 4646 0 0 0 81911 0 87879 GULF CHINA MAIN 0 0 0 0 50799 1032544 0 1083343 COLOMBIA 0 129940 8000 0 0 11760 0 149700 EGYPT 0 0 0 0 0 66399 0 66399 HAITI 0 6900 0 0 0 0 0 6900 HONDURAS 0 38528 0 0 0 0 0 38528 JAMAICA 0 6950 0 0 0 0 0 6950 JAPAN 0 69501 0 0 0 29869 0 99370 KOREA REP 0 0 0 0 0 57212 0 57212 MEXICO 12851 55984 0 0 0 65903 0 134738 NETHERLANDS 0 0 0 0 0 84617 0 84617 NIGERIA 33000 0 0 0 0 0 0 33000 PERU 0 35355 0 0 0 0 0 35355 SAUDI ARABIA 0 0 0 0 0 71498 0 71498 VENEZUELA 0 3345 0 0 0 0 0 3345 SUBTOTAL 45851 346503 8000 0 50799 1419802 0 1870955 PACIFIC CHINA MAIN 490 0 0 0 0 740058 122 740670 CHINA T 29032 0 0 0 0 24 0 29056 GUATEMALA 49590 0 0 0 0 0 0 49590 JAPAN 58697 122 0 122 0 0 0 58941 KOREA REP 33000 0 0 0 0 0 0 33000 PHILIPPINES 25249 0 0 0 0 10203 0 35452 THAILAND 563 0 0 0 0 0 0 563 VIETNAM 23934 0 0 0 0 0 0 23934 SUBTOTAL 220555 122 0 122 0 750285 122 971206 INTERIOR BURMA 0 0 0 0 0 1224 0 1224 CHINA MAIN 0 0 0 0 1120 28950 0 30070 CHINA T 0 7886 0 0 0 31447 0 39333 COCOS IS 0 0 0 0 0 490 0 490 HONG KONG 0 245 0 0 0 0 0 245 INDONESIA 0 0 0 0 0 28528 0 28528 JAPAN 0 0 0 0 0 1444 0 1444 KOREA REP 0 0 0 0 0 2937 0 2937 MALAYSIA 0 685 0 0 0 5018 0 5703 MEXICO 15867 76561 0 0 1557 75714 0 169699 PHILIPPINES 0 0 0 0 0 342 0 342 THAILAND 0 0 0 0 0 5290 0 5290 VIETNAM 0 0 0 0 0 6014 0 6014 SUBTOTAL 15867 85377 0 0 2677 187398 0 291319 TOTAL 283595 436648 8000 122 53476 2460713 122 3242676 SHIPMENTS TO CANADA* 698 0 0 0 0 29887 0 30585 --------------------------------------------------------------------------------------- *NOT \n",
      "['0', '0', '0', '0', '0', '21317', '0', '21317', '0', '0', '0', '0', '0', '21317', '0', '21317', '930', '0', '0', '0', '0', '50909', '0', '51839', '0', '0', '0', '0', '0', '12222', '0', '12222', '0', '0', '0', '0', '0', '12070', '0', '12070', '0', '4646', '0', '0', '0', '0', '0', '4646', '392', '0', '0', '0', '0', '0', '0', '392', '0', '0', '0', '0', '0', '3551', '0', '3551', '0', '0', '0', '0', '0', '3012', '0', '3012', '0', '0', '0', '0', '0', '147', '0', '147', '1322', '4646', '0', '0', '0', '81911', '0', '87879', '0', '0', '0', '0', '50799', '1032544', '0', '1083343', '0', '129940', '8000', '0', '0', '11760', '0', '149700', '0', '0', '0', '0', '0', '66399', '0', '66399', '0', '6900', '0', '0', '0', '0', '0', '6900', '0', '38528', '0', '0', '0', '0', '0', '38528', '0', '6950', '0', '0', '0', '0', '0', '6950', '0', '69501', '0', '0', '0', '29869', '0', '99370', '0', '0', '0', '0', '0', '57212', '0', '57212', '12851', '55984', '0', '0', '0', '65903', '0', '134738', '0', '0', '0', '0', '0', '84617', '0', '84617', '33000', '0', '0', '0', '0', '0', '0', '33000', '0', '35355', '0', '0', '0', '0', '0', '35355', '0', '0', '0', '0', '0', '71498', '0', '71498', '0', '3345', '0', '0', '0', '0', '0', '3345', '45851', '346503', '8000', '0', '50799', '1419802', '0', '1870955', '490', '0', '0', '0', '0', '740058', '122', '740670', '29032', '0', '0', '0', '0', '24', '0', '29056', '49590', '0', '0', '0', '0', '0', '0', '49590', '58697', '122', '0', '122', '0', '0', '0', '58941', '33000', '0', '0', '0', '0', '0', '0', '33000', '25249', '0', '0', '0', '0', '10203', '0', '35452', '563', '0', '0', '0', '0', '0', '0', '563', '23934', '0', '0', '0', '0', '0', '0', '23934', '220555', '122', '0', '122', '0', '750285', '122', '971206', '0', '0', '0', '0', '0', '1224', '0', '1224', '0', '0', '0', '0', '1120', '28950', '0', '30070', '0', '7886', '0', '0', '0', '31447', '0', '39333', '0', '0', '0', '0', '0', '490', '0', '490', '0', '245', '0', '0', '0', '0', '0', '245', '0', '0', '0', '0', '0', '28528', '0', '28528', '0', '0', '0', '0', '0', '1444', '0', '1444', '0', '0', '0', '0', '0', '2937', '0', '2937', '0', '685', '0', '0', '0', '5018', '0', '5703', '15867', '76561', '0', '0', '1557', '75714', '0', '169699', '0', '0', '0', '0', '0', '342', '0', '342', '0', '0', '0', '0', '0', '5290', '0', '5290', '0', '0', '0', '0', '0', '6014', '0', '6014', '15867', '85377', '0', '0', '2677', '187398', '0', '291319', '283595', '436648', '8000', '122', '53476', '2460713', '122', '3242676', '698', '0', '0', '0', '0', '29887', '0', '30585']\n"
     ]
    }
   ],
   "source": [
    "temp_content = temp_content.split('METRIC TONS')[1]\n",
    "print(temp_content)\n",
    "num_list = re.findall('\\d+', str(temp_content))\n",
    "print(num_list)\n"
   ],
   "metadata": {
    "collapsed": false,
    "pycharm": {
     "name": "#%%\n"
    }
   }
  },
  {
   "cell_type": "code",
   "execution_count": 28,
   "outputs": [
    {
     "name": "stdout",
     "output_type": "stream",
     "text": [
      "21317\n",
      "21317\n",
      "51839\n",
      "12222\n",
      "12070\n",
      "4646\n",
      "392\n",
      "3551\n",
      "3012\n",
      "147\n",
      "87879\n",
      "1083343\n",
      "149700\n",
      "66399\n",
      "6900\n",
      "38528\n",
      "6950\n",
      "99370\n",
      "57212\n",
      "134738\n",
      "84617\n",
      "33000\n",
      "35355\n",
      "71498\n",
      "3345\n",
      "1870955\n",
      "740670\n",
      "29056\n",
      "49590\n",
      "58941\n",
      "33000\n",
      "35452\n",
      "563\n",
      "23934\n",
      "971206\n",
      "1224\n",
      "30070\n",
      "39333\n",
      "490\n",
      "245\n",
      "28528\n",
      "1444\n",
      "2937\n",
      "5703\n",
      "169699\n",
      "342\n",
      "5290\n",
      "6014\n",
      "291319\n",
      "3242676\n",
      "30585\n"
     ]
    }
   ],
   "source": [
    "num = len(list_keyword)\n",
    "while True:\n",
    "    print(num_list[num])\n",
    "    num = num + len(list_keyword) + 1\n",
    "    if num > len(num_list):\n",
    "        break"
   ],
   "metadata": {
    "collapsed": false,
    "pycharm": {
     "name": "#%%\n"
    }
   }
  }
 ],
 "metadata": {
  "kernelspec": {
   "display_name": "Python 3 (ipykernel)",
   "language": "python",
   "name": "python3"
  },
  "language_info": {
   "codemirror_mode": {
    "name": "ipython",
    "version": 3
   },
   "file_extension": ".py",
   "mimetype": "text/x-python",
   "name": "python",
   "nbconvert_exporter": "python",
   "pygments_lexer": "ipython3",
   "version": "3.10.4"
  }
 },
 "nbformat": 4,
 "nbformat_minor": 4
}