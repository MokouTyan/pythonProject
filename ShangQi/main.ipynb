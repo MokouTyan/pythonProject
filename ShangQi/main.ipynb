{
 "cells": [
  {
   "cell_type": "code",
   "execution_count": 12,
   "metadata": {
    "collapsed": true
   },
   "outputs": [],
   "source": [
    "import selenium\n",
    "import sys\n",
    "import json\n",
    "import time\n",
    "from selenium import webdriver\n",
    "from selenium.webdriver.common.by import By\n",
    "from selenium.webdriver.support.ui import WebDriverWait\n",
    "from selenium.webdriver.support import expected_conditions as EC"
   ]
  },
  {
   "cell_type": "code",
   "execution_count": 7,
   "outputs": [],
   "source": [
    "with open('config.json', 'r', encoding='utf-8') as f:\n",
    "    JsonFile = json.load(f)\n",
    "base_url=JsonFile['base_url']"
   ],
   "metadata": {
    "collapsed": false,
    "pycharm": {
     "name": "#%%\n"
    }
   }
  },
  {
   "cell_type": "code",
   "execution_count": 16,
   "outputs": [],
   "source": [
    "def getDriver():\n",
    "    if getattr(sys, 'frozen', False):\n",
    "        # 从exe包里找chromedriver依赖驱动的情况\n",
    "        chromedriver_path = os.path.join(sys._MEIPASS, \"chromedriver.exe\")\n",
    "        driver = webdriver.Chrome(chromedriver_path)\n",
    "    else:\n",
    "        # 普通情况下从本地文件路径找依赖的情况\n",
    "        driver = webdriver.Chromedriver(executable_path=r'.\\chromedriver.exe')\n",
    "    return  driver\n",
    "\n",
    "# 打开网址并且下载txt文档\n",
    "def open_and_download(url):\n",
    "\n",
    "    wd = driver.get(url)\n",
    "    # botton_decade_year = WebDriverWait(wd, 50, 0.5).until(EC.presence_of_element_located((By.XPATH,\"\"\"//*[@id=\"blockMarsBranding\"]/a/img\"\"\")))\n",
    "    try:\n",
    "        WebDriverWait(wd, wait_time, 0.5).until(\n",
    "            EC.presence_of_element_located((By.XPATH,decade_year_xpaths)))\n",
    "    except:\n",
    "        print(\"开始计时\")\n",
    "        time.sleep(delay)\n",
    "        print(\"结束计时\")\n",
    "    bottons_decade_year = driver.find_elements(By.XPATH, decade_year_xpaths)\n",
    "    for botton in bottons_decade_year:\n",
    "        botton.click()\n",
    "    print(\"已点开十年\")\n",
    "\n",
    "    bottons_year_value = driver.find_elements(By.XPATH, year_value_xpaths)\n",
    "    for botton in bottons_year_value:\n",
    "        botton.click()\n",
    "        time.sleep(0.5)\n",
    "    print(\"已点开每年\")\n",
    "\n",
    "    bottons_month_value = driver.find_elements(By.XPATH, month_value_xpaths)\n",
    "    for botton in bottons_month_value:\n",
    "        try:\n",
    "            botton.click()\n",
    "            print(\"点开新月份\")\n",
    "            time.sleep(5)\n",
    "        except:\n",
    "            time.sleep(5)\n",
    "            botton.click()\n",
    "            time.sleep(5)\n",
    "\n",
    "    print(\"已点开每月\")\n",
    "\n",
    "def get_all_txt_url():\n",
    "    hrefs = []\n",
    "    bottons_txt = driver.find_elements(By.XPATH, txt_xpaths)\n",
    "    for botton in bottons_txt:\n",
    "        # print(botton.get_attribute('href'))\n",
    "        hrefs.append(botton.get_attribute('href'))\n",
    "    print(hrefs)\n",
    "    print(\"已获取每份txt的URL\")\n",
    "    return hrefs"
   ],
   "metadata": {
    "collapsed": false,
    "pycharm": {
     "name": "#%%\n"
    }
   }
  },
  {
   "cell_type": "code",
   "execution_count": 18,
   "outputs": [
    {
     "name": "stderr",
     "output_type": "stream",
     "text": [
      "C:\\Users\\Mokou\\AppData\\Local\\Temp\\ipykernel_8076\\3355724302.py:3: DeprecationWarning: executable_path has been deprecated, please pass in a Service object\n",
      "  driver = webdriver.Chrome(r'.\\chromedriver.exe')\n"
     ]
    },
    {
     "name": "stdout",
     "output_type": "stream",
     "text": [
      "开始计时\n"
     ]
    },
    {
     "ename": "NameError",
     "evalue": "name 'delay' is not defined",
     "output_type": "error",
     "traceback": [
      "\u001B[1;31m---------------------------------------------------------------------------\u001B[0m",
      "\u001B[1;31mNameError\u001B[0m                                 Traceback (most recent call last)",
      "Input \u001B[1;32mIn [16]\u001B[0m, in \u001B[0;36mopen_and_download\u001B[1;34m(url)\u001B[0m\n\u001B[0;32m     19\u001B[0m \u001B[38;5;28;01mtry\u001B[39;00m:\n\u001B[1;32m---> 20\u001B[0m     WebDriverWait(wd, \u001B[43mwait_time\u001B[49m, \u001B[38;5;241m0.5\u001B[39m)\u001B[38;5;241m.\u001B[39muntil(\n\u001B[0;32m     21\u001B[0m         EC\u001B[38;5;241m.\u001B[39mpresence_of_element_located((By\u001B[38;5;241m.\u001B[39mXPATH,decade_year_xpaths)))\n\u001B[0;32m     22\u001B[0m \u001B[38;5;28;01mexcept\u001B[39;00m:\n",
      "\u001B[1;31mNameError\u001B[0m: name 'wait_time' is not defined",
      "\nDuring handling of the above exception, another exception occurred:\n",
      "\u001B[1;31mNameError\u001B[0m                                 Traceback (most recent call last)",
      "Input \u001B[1;32mIn [18]\u001B[0m, in \u001B[0;36m<cell line: 1>\u001B[1;34m()\u001B[0m\n\u001B[0;32m      1\u001B[0m \u001B[38;5;28;01mif\u001B[39;00m \u001B[38;5;18m__name__\u001B[39m \u001B[38;5;241m==\u001B[39m \u001B[38;5;124m'\u001B[39m\u001B[38;5;124m__main__\u001B[39m\u001B[38;5;124m'\u001B[39m:\n\u001B[0;32m      2\u001B[0m     \u001B[38;5;66;03m# driver = getDriver()\u001B[39;00m\n\u001B[0;32m      3\u001B[0m     driver \u001B[38;5;241m=\u001B[39m webdriver\u001B[38;5;241m.\u001B[39mChrome(\u001B[38;5;124mr\u001B[39m\u001B[38;5;124m'\u001B[39m\u001B[38;5;124m.\u001B[39m\u001B[38;5;124m\\\u001B[39m\u001B[38;5;124mchromedriver.exe\u001B[39m\u001B[38;5;124m'\u001B[39m)\n\u001B[1;32m----> 4\u001B[0m     \u001B[43mopen_and_download\u001B[49m\u001B[43m(\u001B[49m\u001B[43mbase_url\u001B[49m\u001B[43m)\u001B[49m\n\u001B[0;32m      5\u001B[0m     txt_url_list \u001B[38;5;241m=\u001B[39m get_all_txt_url()\n\u001B[0;32m      6\u001B[0m     save_data\u001B[38;5;241m=\u001B[39m{\u001B[38;5;124m'\u001B[39m\u001B[38;5;124murl\u001B[39m\u001B[38;5;124m'\u001B[39m:txt_url_list}\n",
      "Input \u001B[1;32mIn [16]\u001B[0m, in \u001B[0;36mopen_and_download\u001B[1;34m(url)\u001B[0m\n\u001B[0;32m     22\u001B[0m \u001B[38;5;28;01mexcept\u001B[39;00m:\n\u001B[0;32m     23\u001B[0m     \u001B[38;5;28mprint\u001B[39m(\u001B[38;5;124m\"\u001B[39m\u001B[38;5;124m开始计时\u001B[39m\u001B[38;5;124m\"\u001B[39m)\n\u001B[1;32m---> 24\u001B[0m     time\u001B[38;5;241m.\u001B[39msleep(\u001B[43mdelay\u001B[49m)\n\u001B[0;32m     25\u001B[0m     \u001B[38;5;28mprint\u001B[39m(\u001B[38;5;124m\"\u001B[39m\u001B[38;5;124m结束计时\u001B[39m\u001B[38;5;124m\"\u001B[39m)\n\u001B[0;32m     26\u001B[0m bottons_decade_year \u001B[38;5;241m=\u001B[39m driver\u001B[38;5;241m.\u001B[39mfind_elements(By\u001B[38;5;241m.\u001B[39mXPATH, decade_year_xpaths)\n",
      "\u001B[1;31mNameError\u001B[0m: name 'delay' is not defined"
     ]
    }
   ],
   "source": [
    "if __name__ == '__main__':\n",
    "    # driver = getDriver()\n",
    "    driver = webdriver.Chrome(r'.\\chromedriver.exe')\n",
    "    open_and_download(base_url)\n",
    "    txt_url_list = get_all_txt_url()\n",
    "    save_data={'url':txt_url_list}\n",
    "    with open('url.json', 'w') as obj:\n",
    "        json.dump(save_data,obj)\n",
    "    driver.quit()\n"
   ],
   "metadata": {
    "collapsed": false,
    "pycharm": {
     "name": "#%%\n"
    }
   }
  }
 ],
 "metadata": {
  "kernelspec": {
   "display_name": "Python 3",
   "language": "python",
   "name": "python3"
  },
  "language_info": {
   "codemirror_mode": {
    "name": "ipython",
    "version": 2
   },
   "file_extension": ".py",
   "mimetype": "text/x-python",
   "name": "python",
   "nbconvert_exporter": "python",
   "pygments_lexer": "ipython2",
   "version": "2.7.6"
  }
 },
 "nbformat": 4,
 "nbformat_minor": 0
}